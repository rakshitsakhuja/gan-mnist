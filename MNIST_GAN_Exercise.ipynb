{
 "cells": [
  {
   "cell_type": "markdown",
   "metadata": {},
   "source": [
    "# Generative Adversarial Network\n",
    "\n",
    "In this notebook, we'll be building a generative adversarial network (GAN) trained on the MNIST dataset. From this, we'll be able to generate new handwritten digits!\n",
    "\n",
    "GANs were [first reported on](https://arxiv.org/abs/1406.2661) in 2014 from Ian Goodfellow and others in Yoshua Bengio's lab. Since then, GANs have exploded in popularity. Here are a few examples to check out:\n",
    "\n",
    "* [Pix2Pix](https://affinelayer.com/pixsrv/) \n",
    "* [CycleGAN & Pix2Pix in PyTorch, Jun-Yan Zhu](https://github.com/junyanz/pytorch-CycleGAN-and-pix2pix)\n",
    "* [A list of generative models](https://github.com/wiseodd/generative-models)\n",
    "\n",
    "The idea behind GANs is that you have two networks, a generator $G$ and a discriminator $D$, competing against each other. The generator makes \"fake\" data to pass to the discriminator. The discriminator also sees real training data and predicts if the data it's received is real or fake. \n",
    "> * The generator is trained to fool the discriminator, it wants to output data that looks _as close as possible_ to real, training data. \n",
    "* The discriminator is a classifier that is trained to figure out which data is real and which is fake. \n",
    "\n",
    "What ends up happening is that the generator learns to make data that is indistinguishable from real data to the discriminator.\n",
    "\n",
    "<img src='assets/gan_pipeline.png' width=70% />\n",
    "\n",
    "The general structure of a GAN is shown in the diagram above, using MNIST images as data. The latent sample is a random vector that the generator uses to construct its fake images. This is often called a **latent vector** and that vector space is called **latent space**. As the generator trains, it figures out how to map latent vectors to recognizable images that can fool the discriminator.\n",
    "\n",
    "If you're interested in generating only new images, you can throw out the discriminator after training. In this notebook, I'll show you how to define and train these adversarial networks in PyTorch and generate new images!"
   ]
  },
  {
   "cell_type": "code",
   "execution_count": 1,
   "metadata": {
    "collapsed": true
   },
   "outputs": [],
   "source": [
    "%matplotlib inline\n",
    "\n",
    "import numpy as np\n",
    "import torch\n",
    "import matplotlib.pyplot as plt"
   ]
  },
  {
   "cell_type": "code",
   "execution_count": 2,
   "metadata": {},
   "outputs": [
    {
     "name": "stdout",
     "output_type": "stream",
     "text": [
      "Downloading http://yann.lecun.com/exdb/mnist/train-images-idx3-ubyte.gz to data\\MNIST\\raw\\train-images-idx3-ubyte.gz\n"
     ]
    },
    {
     "name": "stderr",
     "output_type": "stream",
     "text": [
      " 98%|█████████▊| 9756672/9912422 [00:12<00:00, 1157785.55it/s]"
     ]
    },
    {
     "name": "stdout",
     "output_type": "stream",
     "text": [
      "Extracting data\\MNIST\\raw\\train-images-idx3-ubyte.gz\n",
      "Downloading http://yann.lecun.com/exdb/mnist/train-labels-idx1-ubyte.gz to data\\MNIST\\raw\\train-labels-idx1-ubyte.gz\n"
     ]
    },
    {
     "name": "stderr",
     "output_type": "stream",
     "text": [
      "\n",
      "0it [00:00, ?it/s]\n",
      "  0%|          | 0/28881 [00:00<?, ?it/s]\n",
      " 57%|█████▋    | 16384/28881 [00:00<00:00, 40038.85it/s]\n",
      "32768it [00:00, 35141.57it/s]                           "
     ]
    },
    {
     "name": "stdout",
     "output_type": "stream",
     "text": [
      "Extracting data\\MNIST\\raw\\train-labels-idx1-ubyte.gz\n",
      "Downloading http://yann.lecun.com/exdb/mnist/t10k-images-idx3-ubyte.gz to data\\MNIST\\raw\\t10k-images-idx3-ubyte.gz\n"
     ]
    },
    {
     "name": "stderr",
     "output_type": "stream",
     "text": [
      "\n",
      "0it [00:00, ?it/s]\n",
      "  0%|          | 0/1648877 [00:00<?, ?it/s]\n",
      "  1%|          | 16384/1648877 [00:01<00:46, 34979.61it/s]\n",
      "  3%|▎         | 49152/1648877 [00:01<00:35, 45164.16it/s]\n",
      "  6%|▌         | 98304/1648877 [00:01<00:26, 58217.90it/s]\n",
      " 13%|█▎        | 212992/1648877 [00:01<00:18, 79614.14it/s]\n",
      " 21%|██        | 344064/1648877 [00:01<00:12, 108574.65it/s]\n",
      " 29%|██▉       | 475136/1648877 [00:02<00:07, 149122.83it/s]\n",
      " 34%|███▍      | 557056/1648877 [00:02<00:05, 197579.64it/s]\n",
      " 42%|████▏     | 696320/1648877 [00:02<00:03, 250313.84it/s]\n",
      " 54%|█████▍    | 892928/1648877 [00:02<00:02, 290883.89it/s]\n",
      " 76%|███████▌  | 1253376/1648877 [00:02<00:00, 401095.43it/s]\n",
      " 85%|████████▍ | 1400832/1648877 [00:03<00:00, 470746.55it/s]\n",
      " 93%|█████████▎| 1531904/1648877 [00:03<00:00, 534285.75it/s]\n",
      "1654784it [00:03, 499100.03it/s]                             "
     ]
    },
    {
     "name": "stdout",
     "output_type": "stream",
     "text": [
      "Extracting data\\MNIST\\raw\\t10k-images-idx3-ubyte.gz\n",
      "Downloading http://yann.lecun.com/exdb/mnist/t10k-labels-idx1-ubyte.gz to data\\MNIST\\raw\\t10k-labels-idx1-ubyte.gz\n"
     ]
    },
    {
     "name": "stderr",
     "output_type": "stream",
     "text": [
      "\n",
      "0it [00:00, ?it/s]\n",
      "  0%|          | 0/4542 [00:00<?, ?it/s]\n",
      "8192it [00:00, 13695.77it/s]            "
     ]
    },
    {
     "name": "stdout",
     "output_type": "stream",
     "text": [
      "Extracting data\\MNIST\\raw\\t10k-labels-idx1-ubyte.gz\n",
      "Processing...\n",
      "Done!\n"
     ]
    }
   ],
   "source": [
    "from torchvision import datasets\n",
    "import torchvision.transforms as transforms\n",
    "\n",
    "# number of subprocesses to use for data loading\n",
    "num_workers = 0\n",
    "# how many samples per batch to load\n",
    "batch_size = 64\n",
    "\n",
    "# convert data to torch.FloatTensor\n",
    "transform = transforms.ToTensor()\n",
    "\n",
    "# get the training datasets\n",
    "train_data = datasets.MNIST(root='data', train=True,\n",
    "                                   download=True, transform=transform)\n",
    "\n",
    "# prepare data loader\n",
    "train_loader = torch.utils.data.DataLoader(train_data, batch_size=batch_size,\n",
    "                                           num_workers=num_workers)"
   ]
  },
  {
   "cell_type": "markdown",
   "metadata": {},
   "source": [
    "###  Understanding Code"
   ]
  },
  {
   "cell_type": "code",
   "execution_count": 17,
   "metadata": {},
   "outputs": [
    {
     "data": {
      "text/plain": [
       "array([[0.        , 0.        , 0.        , 0.        , 0.        ,\n",
       "        0.        , 0.        , 0.        , 0.        , 0.        ,\n",
       "        0.        , 0.        , 0.        , 0.        , 0.        ,\n",
       "        0.        , 0.        , 0.        , 0.        , 0.        ,\n",
       "        0.        , 0.        , 0.        , 0.        , 0.        ,\n",
       "        0.        , 0.        , 0.        ],\n",
       "       [0.        , 0.        , 0.        , 0.        , 0.        ,\n",
       "        0.        , 0.        , 0.        , 0.        , 0.        ,\n",
       "        0.        , 0.        , 0.        , 0.        , 0.        ,\n",
       "        0.        , 0.        , 0.        , 0.        , 0.        ,\n",
       "        0.        , 0.        , 0.        , 0.        , 0.        ,\n",
       "        0.        , 0.        , 0.        ],\n",
       "       [0.        , 0.        , 0.        , 0.        , 0.        ,\n",
       "        0.        , 0.        , 0.        , 0.        , 0.        ,\n",
       "        0.        , 0.        , 0.        , 0.        , 0.        ,\n",
       "        0.        , 0.        , 0.        , 0.        , 0.        ,\n",
       "        0.        , 0.        , 0.        , 0.        , 0.        ,\n",
       "        0.        , 0.        , 0.        ],\n",
       "       [0.        , 0.        , 0.        , 0.        , 0.        ,\n",
       "        0.        , 0.        , 0.        , 0.        , 0.        ,\n",
       "        0.        , 0.        , 0.        , 0.        , 0.        ,\n",
       "        0.        , 0.        , 0.        , 0.        , 0.        ,\n",
       "        0.        , 0.        , 0.        , 0.        , 0.        ,\n",
       "        0.        , 0.        , 0.        ],\n",
       "       [0.        , 0.        , 0.        , 0.        , 0.        ,\n",
       "        0.        , 0.        , 0.        , 0.        , 0.        ,\n",
       "        0.        , 0.        , 0.        , 0.        , 0.        ,\n",
       "        0.        , 0.        , 0.        , 0.        , 0.        ,\n",
       "        0.        , 0.        , 0.        , 0.        , 0.        ,\n",
       "        0.        , 0.        , 0.        ],\n",
       "       [0.        , 0.        , 0.        , 0.        , 0.        ,\n",
       "        0.        , 0.        , 0.        , 0.        , 0.        ,\n",
       "        0.        , 0.        , 0.39215687, 0.92941177, 0.4745098 ,\n",
       "        0.        , 0.        , 0.        , 0.        , 0.        ,\n",
       "        0.        , 0.05098039, 0.1882353 , 0.07058824, 0.        ,\n",
       "        0.        , 0.        , 0.        ],\n",
       "       [0.        , 0.        , 0.        , 0.        , 0.        ,\n",
       "        0.        , 0.        , 0.        , 0.        , 0.        ,\n",
       "        0.        , 0.5176471 , 0.92156863, 0.99607843, 0.7921569 ,\n",
       "        0.        , 0.        , 0.        , 0.        , 0.        ,\n",
       "        0.03137255, 0.7019608 , 0.99607843, 0.36862746, 0.        ,\n",
       "        0.        , 0.        , 0.        ],\n",
       "       [0.        , 0.        , 0.        , 0.        , 0.        ,\n",
       "        0.        , 0.        , 0.        , 0.        , 0.        ,\n",
       "        0.        , 0.8784314 , 0.99607843, 0.92941177, 0.1882353 ,\n",
       "        0.        , 0.        , 0.        , 0.        , 0.        ,\n",
       "        0.03921569, 0.81960785, 0.99607843, 0.36862746, 0.        ,\n",
       "        0.        , 0.        , 0.        ],\n",
       "       [0.        , 0.        , 0.        , 0.        , 0.        ,\n",
       "        0.        , 0.        , 0.        , 0.        , 0.        ,\n",
       "        0.        , 0.8784314 , 0.99607843, 0.4392157 , 0.        ,\n",
       "        0.        , 0.        , 0.        , 0.        , 0.        ,\n",
       "        0.0627451 , 0.9137255 , 0.9843137 , 0.24705882, 0.        ,\n",
       "        0.        , 0.        , 0.        ],\n",
       "       [0.        , 0.        , 0.        , 0.        , 0.        ,\n",
       "        0.        , 0.        , 0.        , 0.        , 0.        ,\n",
       "        0.19215687, 0.9411765 , 0.87058824, 0.07843138, 0.        ,\n",
       "        0.        , 0.        , 0.        , 0.        , 0.        ,\n",
       "        0.4627451 , 0.99607843, 0.7490196 , 0.        , 0.        ,\n",
       "        0.        , 0.        , 0.        ],\n",
       "       [0.        , 0.        , 0.        , 0.        , 0.        ,\n",
       "        0.        , 0.        , 0.        , 0.        , 0.07450981,\n",
       "        0.90588236, 1.        , 0.47058824, 0.        , 0.        ,\n",
       "        0.        , 0.        , 0.        , 0.        , 0.09019608,\n",
       "        0.8039216 , 0.99607843, 0.43529412, 0.        , 0.        ,\n",
       "        0.        , 0.        , 0.        ],\n",
       "       [0.        , 0.        , 0.        , 0.        , 0.        ,\n",
       "        0.        , 0.        , 0.        , 0.02352941, 0.65882355,\n",
       "        1.        , 0.94509804, 0.18431373, 0.        , 0.        ,\n",
       "        0.        , 0.        , 0.        , 0.        , 0.33333334,\n",
       "        0.99607843, 0.99607843, 0.14117648, 0.        , 0.        ,\n",
       "        0.        , 0.        , 0.        ],\n",
       "       [0.        , 0.        , 0.        , 0.        , 0.        ,\n",
       "        0.        , 0.        , 0.        , 0.32941177, 0.99607843,\n",
       "        0.99607843, 0.2627451 , 0.        , 0.        , 0.        ,\n",
       "        0.        , 0.        , 0.        , 0.03137255, 0.78431374,\n",
       "        0.99607843, 0.72156864, 0.05098039, 0.        , 0.        ,\n",
       "        0.        , 0.        , 0.        ],\n",
       "       [0.        , 0.        , 0.        , 0.        , 0.        ,\n",
       "        0.        , 0.        , 0.01176471, 0.6745098 , 0.99607843,\n",
       "        0.8666667 , 0.07058824, 0.        , 0.        , 0.        ,\n",
       "        0.        , 0.        , 0.        , 0.47058824, 0.99607843,\n",
       "        0.9647059 , 0.1882353 , 0.        , 0.        , 0.        ,\n",
       "        0.        , 0.        , 0.        ],\n",
       "       [0.        , 0.        , 0.        , 0.        , 0.        ,\n",
       "        0.        , 0.        , 0.63529414, 0.99607843, 0.93333334,\n",
       "        0.11764706, 0.        , 0.        , 0.        , 0.        ,\n",
       "        0.        , 0.        , 0.        , 0.6156863 , 0.99607843,\n",
       "        0.83137256, 0.        , 0.        , 0.        , 0.        ,\n",
       "        0.        , 0.        , 0.        ],\n",
       "       [0.        , 0.        , 0.        , 0.        , 0.        ,\n",
       "        0.        , 0.45490196, 0.99215686, 0.99607843, 0.4117647 ,\n",
       "        0.        , 0.        , 0.        , 0.        , 0.        ,\n",
       "        0.        , 0.        , 0.4392157 , 0.9882353 , 0.99607843,\n",
       "        0.5058824 , 0.        , 0.        , 0.        , 0.        ,\n",
       "        0.        , 0.        , 0.        ],\n",
       "       [0.        , 0.        , 0.        , 0.        , 0.        ,\n",
       "        0.        , 0.7764706 , 0.99607843, 0.6745098 , 0.00392157,\n",
       "        0.        , 0.        , 0.        , 0.14117648, 0.41960785,\n",
       "        0.57254905, 0.9764706 , 0.99215686, 0.99607843, 0.8235294 ,\n",
       "        0.05098039, 0.        , 0.        , 0.        , 0.        ,\n",
       "        0.        , 0.        , 0.        ],\n",
       "       [0.        , 0.        , 0.        , 0.        , 0.        ,\n",
       "        0.        , 0.7764706 , 0.99607843, 0.5254902 , 0.03921569,\n",
       "        0.34901962, 0.3764706 , 0.75686276, 0.9607843 , 0.99607843,\n",
       "        0.99607843, 0.99607843, 0.99607843, 0.99607843, 0.54901963,\n",
       "        0.        , 0.        , 0.        , 0.        , 0.        ,\n",
       "        0.        , 0.        , 0.        ],\n",
       "       [0.        , 0.        , 0.        , 0.        , 0.        ,\n",
       "        0.        , 0.7764706 , 0.99607843, 0.95686275, 0.94509804,\n",
       "        0.99607843, 0.99607843, 0.99607843, 0.99607843, 0.8745098 ,\n",
       "        0.54901963, 0.9882353 , 0.99607843, 0.6627451 , 0.01960784,\n",
       "        0.        , 0.        , 0.        , 0.        , 0.        ,\n",
       "        0.        , 0.        , 0.        ],\n",
       "       [0.        , 0.        , 0.        , 0.        , 0.        ,\n",
       "        0.        , 0.5372549 , 0.9882353 , 0.99607843, 0.99607843,\n",
       "        0.99607843, 0.85490197, 0.6901961 , 0.34509805, 0.        ,\n",
       "        0.        , 0.98039216, 0.99607843, 0.47058824, 0.        ,\n",
       "        0.        , 0.        , 0.        , 0.        , 0.        ,\n",
       "        0.        , 0.        , 0.        ],\n",
       "       [0.        , 0.        , 0.        , 0.        , 0.        ,\n",
       "        0.        , 0.        , 0.09803922, 0.23529412, 0.46666667,\n",
       "        0.10196079, 0.05490196, 0.        , 0.        , 0.        ,\n",
       "        0.03529412, 0.9843137 , 0.99607843, 0.09803922, 0.        ,\n",
       "        0.        , 0.        , 0.        , 0.        , 0.        ,\n",
       "        0.        , 0.        , 0.        ],\n",
       "       [0.        , 0.        , 0.        , 0.        , 0.        ,\n",
       "        0.        , 0.        , 0.        , 0.        , 0.        ,\n",
       "        0.        , 0.        , 0.        , 0.        , 0.        ,\n",
       "        0.39215687, 0.99607843, 0.7607843 , 0.01960784, 0.        ,\n",
       "        0.        , 0.        , 0.        , 0.        , 0.        ,\n",
       "        0.        , 0.        , 0.        ],\n",
       "       [0.        , 0.        , 0.        , 0.        , 0.        ,\n",
       "        0.        , 0.        , 0.        , 0.        , 0.        ,\n",
       "        0.        , 0.        , 0.        , 0.        , 0.        ,\n",
       "        0.7411765 , 0.99607843, 0.6509804 , 0.        , 0.        ,\n",
       "        0.        , 0.        , 0.        , 0.        , 0.        ,\n",
       "        0.        , 0.        , 0.        ],\n",
       "       [0.        , 0.        , 0.        , 0.        , 0.        ,\n",
       "        0.        , 0.        , 0.        , 0.        , 0.        ,\n",
       "        0.        , 0.        , 0.        , 0.        , 0.        ,\n",
       "        0.79607844, 0.99607843, 0.6509804 , 0.        , 0.        ,\n",
       "        0.        , 0.        , 0.        , 0.        , 0.        ,\n",
       "        0.        , 0.        , 0.        ],\n",
       "       [0.        , 0.        , 0.        , 0.        , 0.        ,\n",
       "        0.        , 0.        , 0.        , 0.        , 0.        ,\n",
       "        0.        , 0.        , 0.        , 0.        , 0.        ,\n",
       "        0.30588236, 0.99215686, 0.4862745 , 0.        , 0.        ,\n",
       "        0.        , 0.        , 0.        , 0.        , 0.        ,\n",
       "        0.        , 0.        , 0.        ],\n",
       "       [0.        , 0.        , 0.        , 0.        , 0.        ,\n",
       "        0.        , 0.        , 0.        , 0.        , 0.        ,\n",
       "        0.        , 0.        , 0.        , 0.        , 0.        ,\n",
       "        0.        , 0.        , 0.        , 0.        , 0.        ,\n",
       "        0.        , 0.        , 0.        , 0.        , 0.        ,\n",
       "        0.        , 0.        , 0.        ],\n",
       "       [0.        , 0.        , 0.        , 0.        , 0.        ,\n",
       "        0.        , 0.        , 0.        , 0.        , 0.        ,\n",
       "        0.        , 0.        , 0.        , 0.        , 0.        ,\n",
       "        0.        , 0.        , 0.        , 0.        , 0.        ,\n",
       "        0.        , 0.        , 0.        , 0.        , 0.        ,\n",
       "        0.        , 0.        , 0.        ],\n",
       "       [0.        , 0.        , 0.        , 0.        , 0.        ,\n",
       "        0.        , 0.        , 0.        , 0.        , 0.        ,\n",
       "        0.        , 0.        , 0.        , 0.        , 0.        ,\n",
       "        0.        , 0.        , 0.        , 0.        , 0.        ,\n",
       "        0.        , 0.        , 0.        , 0.        , 0.        ,\n",
       "        0.        , 0.        , 0.        ]], dtype=float32)"
      ]
     },
     "execution_count": 17,
     "metadata": {},
     "output_type": "execute_result"
    }
   ],
   "source": [
    "# obtain one batch of training images\n",
    "dataiter = iter(train_loader)\n",
    "dataiter.next()\n",
    "images, labels = dataiter.next()\n",
    "labels\n",
    "images\n",
    "images.numpy()\n",
    "images = images.numpy()\n",
    "images[0]\n",
    "np.squeeze(images[0])\n",
    "# # get one image from the batch\n",
    "# img = np.squeeze(images[0])"
   ]
  },
  {
   "cell_type": "markdown",
   "metadata": {},
   "source": [
    "### Visualize the data"
   ]
  },
  {
   "cell_type": "code",
   "execution_count": 3,
   "metadata": {},
   "outputs": [
    {
     "data": {
      "text/plain": [
       "<matplotlib.image.AxesImage at 0x17bfd2421d0>"
      ]
     },
     "execution_count": 3,
     "metadata": {},
     "output_type": "execute_result"
    },
    {
     "data": {
      "image/png": "[encoded data removed]",
      "text/plain": [
       "<matplotlib.figure.Figure at 0x17bf3b1fdd8>"
      ]
     },
     "metadata": {},
     "output_type": "display_data"
    },
    {
     "name": "stderr",
     "output_type": "stream",
     "text": [
      "\r",
      "9920512it [00:30, 1157785.55it/s]                             "
     ]
    }
   ],
   "source": [
    "# obtain one batch of training images\n",
    "dataiter = iter(train_loader)\n",
    "images, labels = dataiter.next()\n",
    "images = images.numpy()\n",
    "\n",
    "# get one image from the batch\n",
    "img = np.squeeze(images[0])\n",
    "\n",
    "fig = plt.figure(figsize = (3,3)) \n",
    "ax = fig.add_subplot(111)\n",
    "ax.imshow(img, cmap='gray')"
   ]
  },
  {
   "cell_type": "markdown",
   "metadata": {},
   "source": [
    "---\n",
    "# Define the Model\n",
    "\n",
    "A GAN is comprised of two adversarial networks, a discriminator and a generator."
   ]
  },
  {
   "cell_type": "markdown",
   "metadata": {},
   "source": [
    "## Discriminator\n",
    "\n",
    "The discriminator network is going to be a pretty typical linear classifier. To make this network a universal function approximator, we'll need at least one hidden layer, and these hidden layers should have one key attribute:\n",
    "> All hidden layers will have a [Leaky ReLu](https://pytorch.org/docs/stable/nn.html#torch.nn.LeakyReLU) activation function applied to their outputs.\n",
    "\n",
    "<img src='assets/gan_network.png' width=70% />\n",
    "\n",
    "#### Leaky ReLu\n",
    "\n",
    "We should use a leaky ReLU to allow gradients to flow backwards through the layer unimpeded. A leaky ReLU is like a normal ReLU, except that there is a small non-zero output for negative input values.\n",
    "\n",
    "<img src='assets/leaky_relu.png' width=40% />\n",
    "\n",
    "#### Sigmoid Output\n",
    "\n",
    "We'll also take the approach of using a more numerically stable loss function on the outputs. Recall that we want the discriminator to output a value 0-1 indicating whether an image is _real or fake_. \n",
    "> We will ultimately use [BCEWithLogitsLoss](https://pytorch.org/docs/stable/nn.html#bcewithlogitsloss), which combines a `sigmoid` activation function **and** and binary cross entropy loss in one function. \n",
    "\n",
    "So, our final output layer should not have any activation function applied to it."
   ]
  },
  {
   "cell_type": "code",
   "execution_count": 41,
   "metadata": {
    "collapsed": true
   },
   "outputs": [],
   "source": [
    "import torch.nn as nn\n",
    "import torch.nn.functional as F\n",
    "\n",
    "class Discriminator(nn.Module):\n",
    "\n",
    "    def __init__(self, input_size, hidden_dim, output_size):\n",
    "        super(Discriminator, self).__init__()\n",
    "        \n",
    "        # define all layers\n",
    "        self.fc1=nn.Linear(input_size,hidden_dim*4)\n",
    "        self.fc2=nn.Linear(hidden_dim*4,hidden_dim*2)\n",
    "        self.fc3=nn.Linear(hidden_dim*2,hidden_dim)\n",
    "        self.fc4=nn.Linear(hidden_dim,output_size)\n",
    "        \n",
    "        self.droppout=nn.Dropout(0.3)\n",
    "        \n",
    "        \n",
    "    def forward(self, x):\n",
    "        # flatten image\n",
    "        x=x.view(-1,28*28)\n",
    "        \n",
    "        # pass x through all layers\n",
    "        x=self.fc1(x)\n",
    "        x=F.leaky_relu(x,0.2)\n",
    "        x=self.droppout(x)\n",
    "        \n",
    "        x=self.fc2(x)\n",
    "        x=F.leaky_relu(x,0.2)\n",
    "        x=self.droppout(x)\n",
    "        \n",
    "        x=self.fc3(x)\n",
    "        x=F.leaky_relu(x,0.2)\n",
    "        x=self.droppout(x)\n",
    "        \n",
    "        out=self.fc4(x)\n",
    "        \n",
    "\n",
    "        \n",
    "        # apply leaky relu activation to all hidden layers\n",
    "\n",
    "        return out\n"
   ]
  },
  {
   "cell_type": "markdown",
   "metadata": {},
   "source": [
    "## Generator\n",
    "\n",
    "The generator network will be almost exactly the same as the discriminator network, except that we're applying a [tanh activation function](https://pytorch.org/docs/stable/nn.html#tanh) to our output layer.\n",
    "\n",
    "#### tanh Output\n",
    "The generator has been found to perform the best with $tanh$ for the generator output, which scales the output to be between -1 and 1, instead of 0 and 1. \n",
    "\n",
    "<img src='assets/tanh_fn.png' width=40% />\n",
    "\n",
    "Recall that we also want these outputs to be comparable to the *real* input pixel values, which are read in as normalized values between 0 and 1. \n",
    "> So, we'll also have to **scale our real input images to have pixel values between -1 and 1** when we train the discriminator. \n",
    "\n",
    "I'll do this in the training loop, later on."
   ]
  },
  {
   "cell_type": "code",
   "execution_count": 49,
   "metadata": {
    "collapsed": true
   },
   "outputs": [],
   "source": [
    "class Generator(nn.Module):\n",
    "\n",
    "    def __init__(self, input_size, hidden_dim, output_size):\n",
    "        super(Generator, self).__init__()\n",
    "        \n",
    "        # define all layers\n",
    "        self.fc1=nn.Linear(input_size,hidden_dim)\n",
    "        self.fc2=nn.Linear(hidden_dim,hidden_dim*2)\n",
    "        self.fc3=nn.Linear(hidden_dim*2,hidden_dim*4)\n",
    "        self.fc4=nn.Linear(hidden_dim*4,output_size)\n",
    "        self.droppout=nn.Dropout(0.3)\n",
    "        \n",
    "\n",
    "    def forward(self, x):\n",
    "        # pass x through all layers\n",
    "        x=self.fc1(x)\n",
    "        x=F.leaky_relu(x,0.2)\n",
    "        x=self.droppout(x)\n",
    "        x=self.fc2(x)\n",
    "        x=F.leaky_relu(x,0.2)\n",
    "        x=self.droppout(x)\n",
    "        x=self.fc3(x)\n",
    "        x=F.leaky_relu(x,0.2)\n",
    "        x=self.droppout(x)\n",
    "        x=self.fc4(x)\n",
    "        x=F.tanh(x)\n",
    "        \n",
    "        # final layer should have tanh applied\n",
    "        \n",
    "        return x"
   ]
  },
  {
   "cell_type": "markdown",
   "metadata": {},
   "source": [
    "## Model hyperparameters"
   ]
  },
  {
   "cell_type": "code",
   "execution_count": 50,
   "metadata": {
    "collapsed": true
   },
   "outputs": [],
   "source": [
    "# Discriminator hyperparams\n",
    "\n",
    "# Size of input image to discriminator (28*28)\n",
    "input_size = 784\n",
    "# Size of discriminator output (real or fake)\n",
    "d_output_size = 1\n",
    "# Size of *last* hidden layer in the discriminator\n",
    "d_hidden_size = 32\n",
    "\n",
    "# Generator hyperparams\n",
    "\n",
    "# Size of latent vector to give to generator\n",
    "z_size = 200\n",
    "# Size of discriminator output (generated image)\n",
    "g_output_size = 784\n",
    "# Size of *first* hidden layer in the generator\n",
    "g_hidden_size = 32"
   ]
  },
  {
   "cell_type": "markdown",
   "metadata": {},
   "source": [
    "## Build complete network\n",
    "\n",
    "Now we're instantiating the discriminator and generator from the classes defined above. Make sure you've passed in the correct input arguments."
   ]
  },
  {
   "cell_type": "code",
   "execution_count": 51,
   "metadata": {},
   "outputs": [
    {
     "name": "stdout",
     "output_type": "stream",
     "text": [
      "Discriminator(\n",
      "  (fc1): Linear(in_features=784, out_features=128, bias=True)\n",
      "  (fc2): Linear(in_features=128, out_features=64, bias=True)\n",
      "  (fc3): Linear(in_features=64, out_features=32, bias=True)\n",
      "  (fc4): Linear(in_features=32, out_features=1, bias=True)\n",
      "  (droppout): Dropout(p=0.3)\n",
      ")\n",
      "\n",
      "Generator(\n",
      "  (fc1): Linear(in_features=200, out_features=32, bias=True)\n",
      "  (fc2): Linear(in_features=32, out_features=64, bias=True)\n",
      "  (fc3): Linear(in_features=64, out_features=128, bias=True)\n",
      "  (fc4): Linear(in_features=128, out_features=784, bias=True)\n",
      "  (droppout): Dropout(p=0.3)\n",
      ")\n"
     ]
    }
   ],
   "source": [
    "# instantiate discriminator and generator\n",
    "D = Discriminator(input_size, d_hidden_size, d_output_size)\n",
    "G = Generator(z_size, g_hidden_size, g_output_size)\n",
    "\n",
    "# check that they are as you expect\n",
    "print(D)\n",
    "print()\n",
    "print(G)"
   ]
  },
  {
   "cell_type": "markdown",
   "metadata": {},
   "source": [
    "---\n",
    "## Discriminator and Generator Losses\n",
    "\n",
    "Now we need to calculate the losses. \n",
    "\n",
    "### Discriminator Losses\n",
    "\n",
    "> * For the discriminator, the total loss is the sum of the losses for real and fake images, `d_loss = d_real_loss + d_fake_loss`. \n",
    "* Remember that we want the discriminator to output 1 for real images and 0 for fake images, so we need to set up the losses to reflect that.\n",
    "\n",
    "<img src='assets/gan_pipeline.png' width=70% />\n",
    "\n",
    "The losses will by binary cross entropy loss with logits, which we can get with [BCEWithLogitsLoss](https://pytorch.org/docs/stable/nn.html#bcewithlogitsloss). This combines a `sigmoid` activation function **and** and binary cross entropy loss in one function.\n",
    "\n",
    "For the real images, we want `D(real_images) = 1`. That is, we want the discriminator to classify the the real images with a label = 1, indicating that these are real. To help the discriminator generalize better, the labels are **reduced a bit from 1.0 to 0.9**. For this, we'll use the parameter `smooth`; if True, then we should smooth our labels. In PyTorch, this looks like `labels = torch.ones(size) * 0.9`\n",
    "\n",
    "The discriminator loss for the fake data is similar. We want `D(fake_images) = 0`, where the fake images are the _generator output_, `fake_images = G(z)`. \n",
    "\n",
    "### Generator Loss\n",
    "\n",
    "The generator loss will look similar only with flipped labels. The generator's goal is to get `D(fake_images) = 1`. In this case, the labels are **flipped** to represent that the generator is trying to fool the discriminator into thinking that the images it generates (fakes) are real!"
   ]
  },
  {
   "cell_type": "code",
   "execution_count": 52,
   "metadata": {},
   "outputs": [
    {
     "data": {
      "text/plain": [
       "tensor([-0.0607, -0.0863, -0.0542, -0.0722, -0.1481, -0.1279, -0.1386, -0.1543,\n",
       "        -0.1287, -0.0074, -0.0180, -0.1364, -0.1813, -0.0454,  0.0246,  0.0338,\n",
       "        -0.0334, -0.0759, -0.1209, -0.0901, -0.0495, -0.0838,  0.0119, -0.0456,\n",
       "        -0.0967, -0.0450, -0.1724, -0.0666, -0.0451, -0.0702, -0.1152, -0.0643,\n",
       "        -0.0697, -0.1716, -0.1098, -0.0381, -0.0875, -0.0697, -0.0604, -0.1222,\n",
       "        -0.1522, -0.0383, -0.1489, -0.0635, -0.0725, -0.0471, -0.1001, -0.1335,\n",
       "        -0.0071, -0.0847, -0.1641, -0.0524, -0.1898, -0.0297, -0.0359, -0.0401,\n",
       "        -0.0464, -0.0653, -0.1098, -0.0702, -0.0846, -0.1009, -0.0774, -0.0864],\n",
       "       grad_fn=<SqueezeBackward0>)"
      ]
     },
     "execution_count": 52,
     "metadata": {},
     "output_type": "execute_result"
    }
   ],
   "source": [
    "D_real.squeeze()"
   ]
  },
  {
   "cell_type": "code",
   "execution_count": 53,
   "metadata": {
    "collapsed": true
   },
   "outputs": [],
   "source": [
    "# Calculate losses\n",
    "def real_loss(D_out, smooth=False):\n",
    "    # compare logits to real labels\n",
    "    # smooth labels if smooth=True\n",
    "    size=D_out.size(0)\n",
    "    if smooth:\n",
    "        labels=torch.ones(size)*0.9\n",
    "    else:\n",
    "        labels=torch.ones(size)\n",
    "\n",
    "    criterion=nn.BCEWithLogitsLoss()\n",
    "    loss = criterion(D_out.squeeze(),labels)\n",
    "    return loss\n",
    "\n",
    "def fake_loss(D_out):\n",
    "    # compare logits to fake labels\n",
    "    size=D_out.size(0)\n",
    "    labels=torch.zeros(size)\n",
    "    criterion=nn.BCEWithLogitsLoss()\n",
    "    loss = criterion(D_out.squeeze(),labels)\n",
    "    return loss"
   ]
  },
  {
   "cell_type": "markdown",
   "metadata": {},
   "source": [
    "## Optimizers\n",
    "\n",
    "We want to update the generator and discriminator variables separately. So, we'll define two separate Adam optimizers."
   ]
  },
  {
   "cell_type": "code",
   "execution_count": 62,
   "metadata": {
    "scrolled": true
   },
   "outputs": [],
   "source": [
    "import torch.optim as optim\n",
    "\n",
    "# learning rate for optimizers\n",
    "lr = 0.002\n",
    "\n",
    "# Create optimizers for the discriminator and generator\n",
    "d_optimizer = optim.Adam(D.parameters(),lr=lr)\n",
    "g_optimizer = optim.Adam(G.parameters(),lr=lr)"
   ]
  },
  {
   "cell_type": "markdown",
   "metadata": {},
   "source": [
    "---\n",
    "## Training\n",
    "\n",
    "Training will involve alternating between training the discriminator and the generator. We'll use our functions `real_loss` and `fake_loss` to help us calculate the discriminator losses in all of the following cases.\n",
    "\n",
    "### Discriminator training\n",
    "1. Compute the discriminator loss on real, training images        \n",
    "2. Generate fake images\n",
    "3. Compute the discriminator loss on fake, generated images     \n",
    "4. Add up real and fake loss\n",
    "5. Perform backpropagation + an optimization step to update the discriminator's weights\n",
    "\n",
    "### Generator training\n",
    "1. Generate fake images\n",
    "2. Compute the discriminator loss on fake images, using **flipped** labels!\n",
    "3. Perform backpropagation + an optimization step to update the generator's weights\n",
    "\n",
    "#### Saving Samples\n",
    "\n",
    "As we train, we'll also print out some loss statistics and save some generated \"fake\" samples."
   ]
  },
  {
   "cell_type": "code",
   "execution_count": 63,
   "metadata": {
    "scrolled": true
   },
   "outputs": [
    {
     "name": "stderr",
     "output_type": "stream",
     "text": [
      "C:\\ProgramData\\Anaconda3\\lib\\site-packages\\torch\\nn\\functional.py:1320: UserWarning: nn.functional.tanh is deprecated. Use torch.tanh instead.\n",
      "  warnings.warn(\"nn.functional.tanh is deprecated. Use torch.tanh instead.\")\n"
     ]
    },
    {
     "name": "stdout",
     "output_type": "stream",
     "text": [
      "Epoch [    1/   40] | d_loss: 0.5989 | g_loss: 0.6385\n",
      "Epoch [    1/   40] | d_loss: 0.6639 | g_loss: 2.8437\n",
      "Epoch [    1/   40] | d_loss: 0.7505 | g_loss: 2.4351\n",
      "Epoch [    2/   40] | d_loss: 0.8728 | g_loss: 1.6572\n",
      "Epoch [    2/   40] | d_loss: 0.7882 | g_loss: 3.8653\n",
      "Epoch [    2/   40] | d_loss: 0.9028 | g_loss: 1.7514\n",
      "Epoch [    3/   40] | d_loss: 1.0025 | g_loss: 2.2805\n",
      "Epoch [    3/   40] | d_loss: 1.0826 | g_loss: 1.5425\n",
      "Epoch [    3/   40] | d_loss: 1.0052 | g_loss: 1.4838\n",
      "Epoch [    4/   40] | d_loss: 1.1088 | g_loss: 1.6172\n",
      "Epoch [    4/   40] | d_loss: 0.9781 | g_loss: 1.9604\n",
      "Epoch [    4/   40] | d_loss: 1.2093 | g_loss: 1.0986\n",
      "Epoch [    5/   40] | d_loss: 1.3286 | g_loss: 1.3650\n",
      "Epoch [    5/   40] | d_loss: 1.0163 | g_loss: 1.9575\n",
      "Epoch [    5/   40] | d_loss: 1.2679 | g_loss: 1.2592\n",
      "Epoch [    6/   40] | d_loss: 1.2918 | g_loss: 1.0134\n",
      "Epoch [    6/   40] | d_loss: 1.2237 | g_loss: 1.0259\n",
      "Epoch [    6/   40] | d_loss: 1.2962 | g_loss: 1.0095\n",
      "Epoch [    7/   40] | d_loss: 1.2295 | g_loss: 0.9467\n",
      "Epoch [    7/   40] | d_loss: 1.1436 | g_loss: 1.2993\n",
      "Epoch [    7/   40] | d_loss: 1.2639 | g_loss: 0.9551\n",
      "Epoch [    8/   40] | d_loss: 1.2668 | g_loss: 0.9459\n",
      "Epoch [    8/   40] | d_loss: 1.2343 | g_loss: 1.2352\n",
      "Epoch [    8/   40] | d_loss: 1.3418 | g_loss: 1.0262\n",
      "Epoch [    9/   40] | d_loss: 1.2229 | g_loss: 1.1445\n",
      "Epoch [    9/   40] | d_loss: 1.2324 | g_loss: 1.2961\n",
      "Epoch [    9/   40] | d_loss: 1.3423 | g_loss: 1.2201\n",
      "Epoch [   10/   40] | d_loss: 1.2270 | g_loss: 1.3245\n",
      "Epoch [   10/   40] | d_loss: 1.2027 | g_loss: 1.3704\n",
      "Epoch [   10/   40] | d_loss: 1.2424 | g_loss: 1.2452\n",
      "Epoch [   11/   40] | d_loss: 1.2205 | g_loss: 0.8752\n",
      "Epoch [   11/   40] | d_loss: 1.1669 | g_loss: 1.4545\n",
      "Epoch [   11/   40] | d_loss: 1.3193 | g_loss: 0.7804\n",
      "Epoch [   12/   40] | d_loss: 1.2826 | g_loss: 1.1809\n",
      "Epoch [   12/   40] | d_loss: 1.2485 | g_loss: 1.1718\n",
      "Epoch [   12/   40] | d_loss: 1.4447 | g_loss: 1.0854\n",
      "Epoch [   13/   40] | d_loss: 1.3361 | g_loss: 0.8920\n",
      "Epoch [   13/   40] | d_loss: 1.1977 | g_loss: 1.2359\n",
      "Epoch [   13/   40] | d_loss: 1.2803 | g_loss: 1.2180\n",
      "Epoch [   14/   40] | d_loss: 1.2936 | g_loss: 1.0398\n",
      "Epoch [   14/   40] | d_loss: 1.2404 | g_loss: 1.0172\n",
      "Epoch [   14/   40] | d_loss: 1.4698 | g_loss: 1.2530\n",
      "Epoch [   15/   40] | d_loss: 1.2815 | g_loss: 1.0869\n",
      "Epoch [   15/   40] | d_loss: 1.3345 | g_loss: 1.1390\n",
      "Epoch [   15/   40] | d_loss: 1.3336 | g_loss: 1.0703\n",
      "Epoch [   16/   40] | d_loss: 1.2051 | g_loss: 0.9247\n",
      "Epoch [   16/   40] | d_loss: 1.2808 | g_loss: 0.9052\n",
      "Epoch [   16/   40] | d_loss: 1.2404 | g_loss: 1.6846\n",
      "Epoch [   17/   40] | d_loss: 1.2689 | g_loss: 1.0452\n",
      "Epoch [   17/   40] | d_loss: 1.2274 | g_loss: 1.1827\n",
      "Epoch [   17/   40] | d_loss: 1.3351 | g_loss: 0.9747\n",
      "Epoch [   18/   40] | d_loss: 1.2520 | g_loss: 1.2681\n",
      "Epoch [   18/   40] | d_loss: 1.3378 | g_loss: 0.9903\n",
      "Epoch [   18/   40] | d_loss: 1.3665 | g_loss: 0.9266\n",
      "Epoch [   19/   40] | d_loss: 1.4142 | g_loss: 1.2330\n",
      "Epoch [   19/   40] | d_loss: 1.2857 | g_loss: 1.0566\n",
      "Epoch [   19/   40] | d_loss: 1.3301 | g_loss: 0.9771\n",
      "Epoch [   20/   40] | d_loss: 1.2251 | g_loss: 1.1880\n",
      "Epoch [   20/   40] | d_loss: 1.2108 | g_loss: 1.0834\n",
      "Epoch [   20/   40] | d_loss: 1.3351 | g_loss: 0.9874\n",
      "Epoch [   21/   40] | d_loss: 1.2221 | g_loss: 0.8532\n",
      "Epoch [   21/   40] | d_loss: 1.2241 | g_loss: 1.2301\n",
      "Epoch [   21/   40] | d_loss: 1.1177 | g_loss: 1.3200\n",
      "Epoch [   22/   40] | d_loss: 1.1736 | g_loss: 1.5013\n",
      "Epoch [   22/   40] | d_loss: 1.3470 | g_loss: 1.0691\n",
      "Epoch [   22/   40] | d_loss: 1.3012 | g_loss: 1.0460\n",
      "Epoch [   23/   40] | d_loss: 1.3580 | g_loss: 0.9532\n",
      "Epoch [   23/   40] | d_loss: 1.1101 | g_loss: 1.1042\n",
      "Epoch [   23/   40] | d_loss: 1.3779 | g_loss: 0.8740\n",
      "Epoch [   24/   40] | d_loss: 1.3303 | g_loss: 0.9591\n",
      "Epoch [   24/   40] | d_loss: 1.2939 | g_loss: 1.0441\n",
      "Epoch [   24/   40] | d_loss: 1.3343 | g_loss: 0.8734\n",
      "Epoch [   25/   40] | d_loss: 1.3235 | g_loss: 0.8591\n",
      "Epoch [   25/   40] | d_loss: 1.2686 | g_loss: 0.8977\n",
      "Epoch [   25/   40] | d_loss: 1.3372 | g_loss: 0.9953\n",
      "Epoch [   26/   40] | d_loss: 1.3125 | g_loss: 0.9462\n",
      "Epoch [   26/   40] | d_loss: 1.2566 | g_loss: 1.0300\n",
      "Epoch [   26/   40] | d_loss: 1.3761 | g_loss: 0.8586\n",
      "Epoch [   27/   40] | d_loss: 1.2791 | g_loss: 0.9402\n",
      "Epoch [   27/   40] | d_loss: 1.2507 | g_loss: 1.0904\n",
      "Epoch [   27/   40] | d_loss: 1.4126 | g_loss: 0.9374\n",
      "Epoch [   28/   40] | d_loss: 1.3142 | g_loss: 0.8385\n",
      "Epoch [   28/   40] | d_loss: 1.3285 | g_loss: 0.7953\n",
      "Epoch [   28/   40] | d_loss: 1.2790 | g_loss: 0.9777\n",
      "Epoch [   29/   40] | d_loss: 1.2780 | g_loss: 0.8764\n",
      "Epoch [   29/   40] | d_loss: 1.3698 | g_loss: 1.1394\n",
      "Epoch [   29/   40] | d_loss: 1.3104 | g_loss: 1.0664\n",
      "Epoch [   30/   40] | d_loss: 1.3612 | g_loss: 1.1618\n",
      "Epoch [   30/   40] | d_loss: 1.3255 | g_loss: 1.1130\n",
      "Epoch [   30/   40] | d_loss: 1.3353 | g_loss: 0.8091\n",
      "Epoch [   31/   40] | d_loss: 1.3849 | g_loss: 1.2605\n",
      "Epoch [   31/   40] | d_loss: 1.3301 | g_loss: 0.9335\n",
      "Epoch [   31/   40] | d_loss: 1.2665 | g_loss: 0.9729\n",
      "Epoch [   32/   40] | d_loss: 1.3004 | g_loss: 0.9729\n",
      "Epoch [   32/   40] | d_loss: 1.2350 | g_loss: 0.8824\n",
      "Epoch [   32/   40] | d_loss: 1.3864 | g_loss: 1.1253\n",
      "Epoch [   33/   40] | d_loss: 1.3453 | g_loss: 1.5307\n",
      "Epoch [   33/   40] | d_loss: 1.2901 | g_loss: 1.3287\n",
      "Epoch [   33/   40] | d_loss: 1.3081 | g_loss: 0.9870\n",
      "Epoch [   34/   40] | d_loss: 1.3938 | g_loss: 0.8748\n",
      "Epoch [   34/   40] | d_loss: 1.3019 | g_loss: 0.8884\n",
      "Epoch [   34/   40] | d_loss: 1.4327 | g_loss: 1.1482\n",
      "Epoch [   35/   40] | d_loss: 1.2777 | g_loss: 0.9372\n",
      "Epoch [   35/   40] | d_loss: 1.2819 | g_loss: 0.9789\n",
      "Epoch [   35/   40] | d_loss: 1.3843 | g_loss: 1.0993\n",
      "Epoch [   36/   40] | d_loss: 1.3161 | g_loss: 0.9171\n",
      "Epoch [   36/   40] | d_loss: 1.2860 | g_loss: 0.7996\n",
      "Epoch [   36/   40] | d_loss: 1.3512 | g_loss: 0.9893\n",
      "Epoch [   37/   40] | d_loss: 1.2341 | g_loss: 1.1278\n",
      "Epoch [   37/   40] | d_loss: 1.3063 | g_loss: 1.1553\n",
      "Epoch [   37/   40] | d_loss: 1.3162 | g_loss: 0.9316\n",
      "Epoch [   38/   40] | d_loss: 1.2465 | g_loss: 1.0442\n",
      "Epoch [   38/   40] | d_loss: 1.2986 | g_loss: 1.0179\n",
      "Epoch [   38/   40] | d_loss: 1.3163 | g_loss: 0.8469\n",
      "Epoch [   39/   40] | d_loss: 1.3572 | g_loss: 1.0478\n",
      "Epoch [   39/   40] | d_loss: 1.3134 | g_loss: 0.9110\n",
      "Epoch [   39/   40] | d_loss: 1.4031 | g_loss: 1.0549\n",
      "Epoch [   40/   40] | d_loss: 1.3100 | g_loss: 0.8767\n",
      "Epoch [   40/   40] | d_loss: 1.2655 | g_loss: 0.8379\n",
      "Epoch [   40/   40] | d_loss: 1.3556 | g_loss: 1.0811\n"
     ]
    }
   ],
   "source": [
    "import pickle as pkl\n",
    "\n",
    "# training hyperparams\n",
    "num_epochs = 40\n",
    "\n",
    "# keep track of loss and generated, \"fake\" samples\n",
    "samples = []\n",
    "losses = []\n",
    "\n",
    "print_every = 400\n",
    "\n",
    "# Get some fixed data for sampling. These are images that are held\n",
    "# constant throughout training, and allow us to inspect the model's performance\n",
    "sample_size=16\n",
    "fixed_z = np.random.uniform(-1, 1, size=(sample_size, z_size))\n",
    "fixed_z = torch.from_numpy(fixed_z).float()\n",
    "\n",
    "# train the network\n",
    "D.train()\n",
    "G.train()\n",
    "for epoch in range(num_epochs):\n",
    "    \n",
    "    for batch_i, (real_images, _) in enumerate(train_loader):\n",
    "                \n",
    "        batch_size = real_images.size(0)\n",
    "        \n",
    "        ## Important rescaling step ## \n",
    "        real_images = real_images*2 - 1  # rescale input images from [0,1) to [-1, 1)\n",
    "        \n",
    "        # ============================================\n",
    "        #            TRAIN THE DISCRIMINATOR\n",
    "        # ============================================\n",
    "                \n",
    "        # 1. Train with real images\n",
    "\n",
    "        # Compute the discriminator losses on real images\n",
    "        # use smoothed labels\n",
    "        \n",
    "        d_optimizer.zero_grad()\n",
    "        D_real=D(real_images)\n",
    "        \n",
    "        d_realloss=real_loss(D_real,smooth=True)\n",
    "        \n",
    "        # 2. Train with fake images\n",
    "        \n",
    "        \n",
    "        # Generate fake images\n",
    "        z = np.random.uniform(-1, 1, size=(batch_size, z_size))\n",
    "        z = torch.from_numpy(z).float()\n",
    "        fake_images = G(z)\n",
    "        \n",
    "        # Compute the discriminator losses on fake images\n",
    "        D_fake=D(fake_images)\n",
    "        d_fakeloss=fake_loss(D_fake)\n",
    "        \n",
    "        # add up real and fake losses and perform backprop\n",
    "        d_loss = d_realloss+d_fakeloss\n",
    "        d_loss.backward()\n",
    "        d_optimizer.step()\n",
    "        \n",
    "        \n",
    "        # =========================================\n",
    "        #            TRAIN THE GENERATOR\n",
    "        # =========================================\n",
    "        g_optimizer.zero_grad()\n",
    "        \n",
    "        # 1. Train with fake images and flipped labels\n",
    "        \n",
    "        # Generate fake images\n",
    "        z = np.random.uniform(-1, 1, size=(batch_size, z_size))\n",
    "        z = torch.from_numpy(z).float()\n",
    "        G_fake=G(z)\n",
    "        \n",
    "        # Compute the discriminator losses on fake images \n",
    "        # using flipped labels!\n",
    "        DG_fake=D(G_fake)\n",
    "        # perform backprop\n",
    "        \n",
    "        G_fakeloss=real_loss(DG_fake)\n",
    "        g_loss=G_fakeloss\n",
    "        g_loss.backward()\n",
    "        g_optimizer.step()\n",
    "        \n",
    "        \n",
    "        \n",
    "        \n",
    "        \n",
    "\n",
    "        # Print some loss stats\n",
    "        if batch_i % print_every == 0:\n",
    "            # print discriminator and generator loss\n",
    "            print('Epoch [{:5d}/{:5d}] | d_loss: {:6.4f} | g_loss: {:6.4f}'.format(\n",
    "                    epoch+1, num_epochs, d_loss.item(), g_loss.item()))\n",
    "\n",
    "    \n",
    "    ## AFTER EACH EPOCH##\n",
    "    # append discriminator loss and generator loss\n",
    "    losses.append((d_loss.item(), g_loss.item()))\n",
    "    \n",
    "    # generate and save sample, fake images\n",
    "    G.eval() # eval mode for generating samples\n",
    "    samples_z = G(fixed_z)\n",
    "    samples.append(samples_z)\n",
    "    G.train() # back to train mode\n",
    "\n",
    "\n",
    "# Save training generator samples\n",
    "with open('train_samples.pkl', 'wb') as f:\n",
    "    pkl.dump(samples, f)"
   ]
  },
  {
   "cell_type": "markdown",
   "metadata": {},
   "source": [
    "## Training loss\n",
    "\n",
    "Here we'll plot the training losses for the generator and discriminator, recorded after each epoch."
   ]
  },
  {
   "cell_type": "code",
   "execution_count": 65,
   "metadata": {},
   "outputs": [
    {
     "data": {
      "text/plain": [
       "<matplotlib.legend.Legend at 0x17b80c24358>"
      ]
     },
     "execution_count": 65,
     "metadata": {},
     "output_type": "execute_result"
    },
    {
     "data": {
      "image/png": "[encoded data removed]",
      "text/plain": [
       "<matplotlib.figure.Figure at 0x17b8000de80>"
      ]
     },
     "metadata": {},
     "output_type": "display_data"
    }
   ],
   "source": [
    "fig, ax = plt.subplots()\n",
    "losses = np.array(losses)\n",
    "plt.plot(losses.T[0], label='Discriminator')\n",
    "plt.plot(losses.T[1], label='Generator')\n",
    "plt.title(\"Training Losses\")\n",
    "plt.legend()"
   ]
  },
  {
   "cell_type": "markdown",
   "metadata": {},
   "source": [
    "## Generator samples from training\n",
    "\n",
    "Here we can view samples of images from the generator. First we'll look at the images we saved during training."
   ]
  },
  {
   "cell_type": "code",
   "execution_count": 66,
   "metadata": {
    "collapsed": true
   },
   "outputs": [],
   "source": [
    "# helper function for viewing a list of passed in sample images\n",
    "def view_samples(epoch, samples):\n",
    "    fig, axes = plt.subplots(figsize=(7,7), nrows=4, ncols=4, sharey=True, sharex=True)\n",
    "    for ax, img in zip(axes.flatten(), samples[epoch]):\n",
    "        img = img.detach()\n",
    "        ax.xaxis.set_visible(False)\n",
    "        ax.yaxis.set_visible(False)\n",
    "        im = ax.imshow(img.reshape((28,28)), cmap='Greys_r')"
   ]
  },
  {
   "cell_type": "code",
   "execution_count": 67,
   "metadata": {
    "collapsed": true
   },
   "outputs": [],
   "source": [
    "# Load samples from generator, taken while training\n",
    "with open('train_samples.pkl', 'rb') as f:\n",
    "    samples = pkl.load(f)"
   ]
  },
  {
   "cell_type": "markdown",
   "metadata": {},
   "source": [
    "These are samples from the final training epoch. You can see the generator is able to reproduce numbers like 1, 7, 3, 2. Since this is just a sample, it isn't representative of the full range of images this generator can make."
   ]
  },
  {
   "cell_type": "code",
   "execution_count": 68,
   "metadata": {},
   "outputs": [
    {
     "data": {
      "image/png": "[encoded data removed]",
      "text/plain": [
       "<matplotlib.figure.Figure at 0x17b80c48a58>"
      ]
     },
     "metadata": {},
     "output_type": "display_data"
    }
   ],
   "source": [
    "# -1 indicates final epoch's samples (the last in the list)\n",
    "view_samples(-1, samples)"
   ]
  },
  {
   "cell_type": "markdown",
   "metadata": {},
   "source": [
    "Below I'm showing the generated images as the network was training, every 10 epochs."
   ]
  },
  {
   "cell_type": "code",
   "execution_count": 69,
   "metadata": {},
   "outputs": [
    {
     "data": {
      "image/png": "[encoded data removed]",
      "text/plain": [
       "<matplotlib.figure.Figure at 0x17b811a1cc0>"
      ]
     },
     "metadata": {},
     "output_type": "display_data"
    }
   ],
   "source": [
    "rows = 10 # split epochs into 10, so 100/10 = every 10 epochs\n",
    "cols = 6\n",
    "fig, axes = plt.subplots(figsize=(7,12), nrows=rows, ncols=cols, sharex=True, sharey=True)\n",
    "\n",
    "for sample, ax_row in zip(samples[::int(len(samples)/rows)], axes):\n",
    "    for img, ax in zip(sample[::int(len(sample)/cols)], ax_row):\n",
    "        img = img.detach()\n",
    "        ax.imshow(img.reshape((28,28)), cmap='Greys_r')\n",
    "        ax.xaxis.set_visible(False)\n",
    "        ax.yaxis.set_visible(False)"
   ]
  },
  {
   "cell_type": "markdown",
   "metadata": {},
   "source": [
    "It starts out as all noise. Then it learns to make only the center white and the rest black. You can start to see some number like structures appear out of the noise like 1s and 9s."
   ]
  },
  {
   "cell_type": "markdown",
   "metadata": {},
   "source": [
    "## Sampling from the generator\n",
    "\n",
    "We can also get completely new images from the generator by using the checkpoint we saved after training. **We just need to pass in a new latent vector $z$ and we'll get new samples**!"
   ]
  },
  {
   "cell_type": "code",
   "execution_count": 70,
   "metadata": {},
   "outputs": [
    {
     "name": "stderr",
     "output_type": "stream",
     "text": [
      "C:\\ProgramData\\Anaconda3\\lib\\site-packages\\torch\\nn\\functional.py:1320: UserWarning: nn.functional.tanh is deprecated. Use torch.tanh instead.\n",
      "  warnings.warn(\"nn.functional.tanh is deprecated. Use torch.tanh instead.\")\n"
     ]
    },
    {
     "data": {
      "image/png": "[encoded data removed]",
      "text/plain": [
       "<matplotlib.figure.Figure at 0x17b81ab4d68>"
      ]
     },
     "metadata": {},
     "output_type": "display_data"
    }
   ],
   "source": [
    "# randomly generated, new latent vectors\n",
    "sample_size=16\n",
    "rand_z = np.random.uniform(-1, 1, size=(sample_size, z_size))\n",
    "rand_z = torch.from_numpy(rand_z).float()\n",
    "\n",
    "G.eval() # eval mode\n",
    "# generated samples\n",
    "rand_images = G(rand_z)\n",
    "\n",
    "# 0 indicates the first set of samples in the passed in list\n",
    "# and we only have one batch of samples, here\n",
    "view_samples(0, [rand_images])"
   ]
  },
  {
   "cell_type": "code",
   "execution_count": null,
   "metadata": {
    "collapsed": true
   },
   "outputs": [],
   "source": []
  }
 ],
 "metadata": {
  "kernelspec": {
   "display_name": "Python 3",
   "language": "python",
   "name": "python3"
  },
  "language_info": {
   "codemirror_mode": {
    "name": "ipython",
    "version": 3
   },
   "file_extension": ".py",
   "mimetype": "text/x-python",
   "name": "python",
   "nbconvert_exporter": "python",
   "pygments_lexer": "ipython3",
   "version": "3.6.3"
  }
 },
 "nbformat": 4,
 "nbformat_minor": 2
}
